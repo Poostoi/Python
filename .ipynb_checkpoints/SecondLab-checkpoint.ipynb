{
 "cells": [
  {
   "cell_type": "code",
   "execution_count": null,
   "id": "62e5dc38",
   "metadata": {},
   "outputs": [],
   "source": [
    "import numpy as np\n",
    "import scipy.io as sio\n",
    "import scipy.optimize as so\n",
    "import matplotlib.pyplot as plt\n",
    "%matplotlib inline\n",
    "from matplotlib import rc\n",
    "rc('font', family='Verdana')"
   ]
  },
  {
   "cell_type": "code",
   "execution_count": null,
   "id": "20a0a6b6",
   "metadata": {},
   "outputs": [],
   "source": [
    "data = sio.loadmat('heights.mat')\n",
    "Xdata = data['age']\n",
    "ydata = data['height']\n",
    "\n",
    "# Xp, Yp задают линию, которая будет отображена на графике поверх данных\n",
    "def plot_data(X, y, Xp=None, yp=None):\n",
    "    plt.plot(X, y, 'xr')\n",
    "    if Xp is not None and yp is not None:\n",
    "        plt.plot(Xp, yp, '-b')\n",
    "    plt.xlabel('Возраст, лет')\n",
    "    plt.ylabel('Рост, м')\n",
    "    plt.title('Зависимость роста от возраста')\n",
    "    plt.show()\n",
    "\n",
    "plot_data(Xdata, ydata)"
   ]
  },
  {
   "cell_type": "code",
   "execution_count": null,
   "id": "67a5522e",
   "metadata": {},
   "outputs": [],
   "source": [
    "m, n = Xdata.shape\n",
    "Xdata1 = np.concatenate([np.ones((m,1)), Xdata], axis=1)"
   ]
  }
 ],
 "metadata": {
  "kernelspec": {
   "display_name": "Python 3 (ipykernel)",
   "language": "python",
   "name": "python3"
  },
  "language_info": {
   "codemirror_mode": {
    "name": "ipython",
    "version": 3
   },
   "file_extension": ".py",
   "mimetype": "text/x-python",
   "name": "python",
   "nbconvert_exporter": "python",
   "pygments_lexer": "ipython3",
   "version": "3.9.7"
  }
 },
 "nbformat": 4,
 "nbformat_minor": 5
}
