{
 "cells": [
  {
   "cell_type": "code",
   "execution_count": 11,
   "id": "6a315480",
   "metadata": {},
   "outputs": [
    {
     "name": "stdout",
     "output_type": "stream",
     "text": [
      "646.7331888602457\n"
     ]
    }
   ],
   "source": [
    "p =38\n",
    "q1=4\n",
    "q2=9\n",
    "x1 = (6* p**(25/9))/(q1**(2) * q2**(13/18))\n",
    "x2 = (4.3*p**(25/9))/(q1*q2**(31/18))\n",
    "y = 7*(x1)**(0.38)*x2**(0.26)\n",
    "print (y)"
   ]
  },
  {
   "cell_type": "code",
   "execution_count": 12,
   "id": "96888ca8",
   "metadata": {},
   "outputs": [
    {
     "name": "stdout",
     "output_type": "stream",
     "text": [
      "11696.632450084315\n"
     ]
    }
   ],
   "source": [
    "P = p*y - q1*x1 -q2*x2\n",
    "print (P)"
   ]
  },
  {
   "cell_type": "markdown",
   "id": "6bc7b8b2",
   "metadata": {},
   "source": [
    "### Функции спроса на ресурсы имеют вид"
   ]
  },
  {
   "cell_type": "code",
   "execution_count": 1,
   "id": "55bffaaa",
   "metadata": {},
   "outputs": [
    {
     "data": {
      "text/plain": [
       "1.0555555555555556"
      ]
     },
     "execution_count": 1,
     "metadata": {},
     "output_type": "execute_result"
    }
   ],
   "source": [
    "(25/9)*0.38"
   ]
  }
 ],
 "metadata": {
  "kernelspec": {
   "display_name": "Python 3 (ipykernel)",
   "language": "python",
   "name": "python3"
  },
  "language_info": {
   "codemirror_mode": {
    "name": "ipython",
    "version": 3
   },
   "file_extension": ".py",
   "mimetype": "text/x-python",
   "name": "python",
   "nbconvert_exporter": "python",
   "pygments_lexer": "ipython3",
   "version": "3.9.7"
  }
 },
 "nbformat": 4,
 "nbformat_minor": 5
}
