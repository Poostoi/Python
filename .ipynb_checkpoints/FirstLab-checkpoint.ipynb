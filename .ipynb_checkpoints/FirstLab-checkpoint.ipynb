{
 "cells": [
  {
   "cell_type": "code",
   "execution_count": 3,
   "id": "de940a57",
   "metadata": {},
   "outputs": [],
   "source": [
    "#Первое задание\n",
    "import numpy as np\n",
    "import scipy.io as sio\n",
    "import scipy.optimize as so\n",
    "\n",
    "A = np.array([[1, 2,3], [-2,3, 0],[5,1,4]])\n",
    "B = np.array([[1, 2,3], [-2,4, 6],[3,7,2]])\n",
    "u = np.array([[-4], [1],[1]])\n",
    "v = np.array([[3], [2],[10]])\n",
    "\n"
   ]
  },
  {
   "cell_type": "code",
   "execution_count": 4,
   "id": "5e3485f9",
   "metadata": {},
   "outputs": [
    {
     "name": "stdout",
     "output_type": "stream",
     "text": [
      "[[0.92959978 0.22785863 0.5876253  ... 0.63709804 0.63976366 0.12680949]\n",
      " [0.71039904 0.39851524 0.8644064  ... 0.97954572 0.06140139 0.08098917]\n",
      " [0.88169747 0.3782109  0.75351105 ... 0.59866549 0.57465879 0.89508614]\n",
      " ...\n",
      " [0.423649   0.9784962  0.26033456 ... 0.71923691 0.81797193 0.78952512]\n",
      " [0.45251876 0.59055513 0.52779171 ... 0.77517007 0.74628694 0.08625499]\n",
      " [0.23160172 0.20158158 0.52371935 ... 0.939508   0.50446907 0.42701403]]\n"
     ]
    }
   ],
   "source": [
    "#Второе задание\n",
    "C = np.random.random((100, 100))\n",
    "print (C)"
   ]
  },
  {
   "cell_type": "code",
   "execution_count": 5,
   "id": "2b4400b0",
   "metadata": {},
   "outputs": [],
   "source": [
    "w = np.random.random((100, 1))\n"
   ]
  },
  {
   "cell_type": "code",
   "execution_count": 6,
   "id": "9e9016d6",
   "metadata": {},
   "outputs": [
    {
     "name": "stdout",
     "output_type": "stream",
     "text": [
      "[[ 2  4  6]\n",
      " [-4  7  6]\n",
      " [ 8  8  6]]\n",
      "[[ 1  4  9]\n",
      " [ 4 12  0]\n",
      " [15  7  8]]\n",
      "[[  1   8  27]\n",
      " [ -8  27   0]\n",
      " [125   1  64]]\n",
      "[[ 1  8 27]\n",
      " [-8 36  0]\n",
      " [75  7 32]]\n"
     ]
    }
   ],
   "source": [
    "#Третье задание\n",
    "print(A+B)\n",
    "print(A*B)\n",
    "print(A*A*A)\n",
    "print(A*B*A)"
   ]
  },
  {
   "cell_type": "code",
   "execution_count": 7,
   "id": "d96273e1",
   "metadata": {
    "scrolled": true
   },
   "outputs": [
    {
     "name": "stdout",
     "output_type": "stream",
     "text": [
      "[[ -36   48 -600]\n",
      " [  18   18   30]\n",
      " [  27    0  120]]\n",
      "[[-12]\n",
      " [  2]\n",
      " [ 10]]\n",
      "[[0.4517344  0.11072677 0.2855536  ... 0.30959463 0.31088998 0.06162244]\n",
      " [0.10893843 0.06111161 0.13255519 ... 0.1502116  0.00941579 0.01241954]\n",
      " [0.15617346 0.06699181 0.13346804 ... 0.10604052 0.10178826 0.15854497]\n",
      " ...\n",
      " [0.24468952 0.56515597 0.15036301 ... 0.41541402 0.472441   0.4560108 ]\n",
      " [0.17555391 0.22910489 0.20475592 ... 0.30072595 0.28952079 0.03346248]\n",
      " [0.04810412 0.04186888 0.10877751 ... 0.1951376  0.10477919 0.08869163]]\n",
      "[[0.4517344  0.03494172 0.104085   ... 0.36797257 0.24819526 0.02633857]\n",
      " [0.34521489 0.06111161 0.15311073 ... 0.56576215 0.02382057 0.0168216 ]\n",
      " [0.42845651 0.05799797 0.13346804 ... 0.34577485 0.22293793 0.1859111 ]\n",
      " ...\n",
      " [0.20587013 0.15005066 0.04611258 ... 0.41541402 0.31733087 0.16398587]\n",
      " [0.21989925 0.09056058 0.09348678 ... 0.44771967 0.28952079 0.01791533]\n",
      " [0.11254571 0.03091218 0.09276545 ... 0.54263732 0.19570794 0.08869163]]\n"
     ]
    }
   ],
   "source": [
    "print(v.T*A.T*(u+2*u))\n",
    "print(u*v)\n",
    "print(C*w)\n",
    "print(w.T*C)"
   ]
  },
  {
   "cell_type": "code",
   "execution_count": 8,
   "id": "421ab15b",
   "metadata": {},
   "outputs": [],
   "source": [
    "#Четвёртое задание\n",
    "d = np.random.random((20, 20))\n",
    "number = 1\n",
    "for index in range(1,400):  \n",
    "    number *=index\n",
    "for i in range(20):\n",
    "    for j in range(20):\n",
    "        d[i,j] = i*j"
   ]
  },
  {
   "cell_type": "code",
   "execution_count": 9,
   "id": "dc546618",
   "metadata": {},
   "outputs": [
    {
     "name": "stdout",
     "output_type": "stream",
     "text": [
      "[[-4]\n",
      " [ 1]\n",
      " [ 1]]\n"
     ]
    }
   ],
   "source": [
    "# Пятое задание\n",
    "sio.savemat ('data.mat', {'A': A, 'B':B, 'v':v,'u':u}) # Указано имя файла, имя матрицы в архиве и сама матрица\n",
    "C = sio.loadmat('data.mat')['u'] # Загружаем матрицу под именем A и помещаем в переменную B\n",
    "print (C)\n",
    "\n"
   ]
  },
  {
   "cell_type": "code",
   "execution_count": 10,
   "id": "745ccaff",
   "metadata": {},
   "outputs": [
    {
     "name": "stdout",
     "output_type": "stream",
     "text": [
      "94\n"
     ]
    }
   ],
   "source": [
    "# Шестое задание\n",
    "a =A[A>0] \n",
    "b =B[B>0]\n",
    "sum =0\n",
    "for i in b:\n",
    "    sum +=i\n",
    "for i in a:\n",
    "    sum+=i\n",
    "\n",
    "print (sum+sum)"
   ]
  },
  {
   "cell_type": "code",
   "execution_count": 11,
   "id": "c12ba1e2",
   "metadata": {},
   "outputs": [
    {
     "name": "stdout",
     "output_type": "stream",
     "text": [
      "[1 2 3 3 5 1 4]\n"
     ]
    }
   ],
   "source": [
    "# Седьмое задание\n",
    "print(A[A>0])"
   ]
  },
  {
   "cell_type": "code",
   "execution_count": 12,
   "id": "bed235e8",
   "metadata": {},
   "outputs": [
    {
     "data": {
      "text/plain": [
       "array([[ 5.00000000e-01, -2.50000000e-01, -2.63677968e-16],\n",
       "       [-3.23529412e-01,  1.02941176e-01,  1.76470588e-01],\n",
       "       [ 3.82352941e-01,  1.47058824e-02, -1.17647059e-01]])"
      ]
     },
     "execution_count": 12,
     "metadata": {},
     "output_type": "execute_result"
    }
   ],
   "source": [
    "#Восьмое задание\n",
    "np.linalg.inv(A)\n",
    "np.linalg.pinv(A, rcond=1e-15)\n",
    "np.linalg.inv(B)\n",
    "np.linalg.pinv(B, rcond=1e-15)\n"
   ]
  },
  {
   "cell_type": "code",
   "execution_count": 13,
   "id": "c89df479",
   "metadata": {},
   "outputs": [
    {
     "ename": "NameError",
     "evalue": "name 'm' is not defined",
     "output_type": "error",
     "traceback": [
      "\u001b[1;31m---------------------------------------------------------------------------\u001b[0m",
      "\u001b[1;31mNameError\u001b[0m                                 Traceback (most recent call last)",
      "\u001b[1;32mC:\\Users\\SUPERA~1\\AppData\\Local\\Temp/ipykernel_13592/1841183203.py\u001b[0m in \u001b[0;36m<module>\u001b[1;34m\u001b[0m\n\u001b[0;32m      1\u001b[0m \u001b[1;31m#Девятое задание\u001b[0m\u001b[1;33m\u001b[0m\u001b[1;33m\u001b[0m\u001b[0m\n\u001b[1;32m----> 2\u001b[1;33m \u001b[0mprint\u001b[0m\u001b[1;33m(\u001b[0m\u001b[0mnp\u001b[0m\u001b[1;33m.\u001b[0m\u001b[0mlinalg\u001b[0m\u001b[1;33m.\u001b[0m\u001b[0meigh\u001b[0m\u001b[1;33m(\u001b[0m\u001b[0mm\u001b[0m\u001b[1;33m.\u001b[0m\u001b[0mA\u001b[0m\u001b[1;33m)\u001b[0m\u001b[1;33m)\u001b[0m\u001b[1;33m\u001b[0m\u001b[1;33m\u001b[0m\u001b[0m\n\u001b[0m",
      "\u001b[1;31mNameError\u001b[0m: name 'm' is not defined"
     ]
    }
   ],
   "source": [
    "#Девятое задание\n",
    "print(np.linalg.eigh(m.A))"
   ]
  },
  {
   "cell_type": "code",
   "execution_count": null,
   "id": "963877c8",
   "metadata": {},
   "outputs": [],
   "source": [
    "#Десятое задание\n",
    "def f1(x):\n",
    "    return 5*(x-2)**4 -1/(x**2 +8)\n",
    "def f2(x1,x2):\n",
    "    return 4*(x1-3*x2)**2 + 7*x1**4\n",
    "print (f1(1))\n",
    "print (f2(1,1))\n",
    "x_min = so.minimize(f1, 0.0, method='BFGS') # 0.0 — начальная точка\n",
    "x1_min = so.minimize(f2,0.0,0.0,method ='BFGS')\n"
   ]
  },
  {
   "cell_type": "code",
   "execution_count": 17,
   "id": "1436f1f2",
   "metadata": {},
   "outputs": [
    {
     "data": {
      "image/png": "[encoded data removed]",
      "text/plain": [
       "<Figure size 432x288 with 1 Axes>"
      ]
     },
     "metadata": {
      "needs_background": "light"
     },
     "output_type": "display_data"
    }
   ],
   "source": [
    "#Одинадцатое задание\n",
    "import matplotlib.pyplot as plt\n",
    "%matplotlib inline\n",
    "from matplotlib import rc\n",
    "rc('font', family='Verdana')\n",
    "x = np.linspace(0, 6*np.pi, 100)\n",
    "y1 = x**5 +2*x**4 -3*x -7\n",
    "y2 = x**5 -2*x**4 +3*x -7\n",
    "\n",
    "plt.plot(x, y1, ':r')\n",
    "plt.plot(x, y2, '-.b')\n",
    "\n",
    "plt.xlabel('x')\n",
    "plt.ylabel('y')\n",
    "\n",
    "plt.legend(['Первый график', 'Второй график']) # Названия в порядке отображения графиков\n",
    "\n",
    "plt.title('Синус и косинус')\n",
    "plt.show()\n"
   ]
  },
  {
   "cell_type": "code",
   "execution_count": 20,
   "id": "b4298adc",
   "metadata": {},
   "outputs": [
    {
     "data": {
      "image/png": "[encoded data removed]",
      "text/plain": [
       "<Figure size 432x288 with 2 Axes>"
      ]
     },
     "metadata": {
      "needs_background": "light"
     },
     "output_type": "display_data"
    }
   ],
   "source": [
    "#Двенадцатое задание\n",
    "rc('font', family='Verdana')\n",
    "x = np.linspace(0, 6*np.pi, 100)\n",
    "y1 = np.sin(x)\n",
    "y2 = np.cos(x)\n",
    "\n",
    "plt.subplot(2,1,1)\n",
    "plt.plot(x, y1)\n",
    "\n",
    "\n",
    "plt.plot(x, y2)\n",
    "\n",
    "plt.show()"
   ]
  }
 ],
 "metadata": {
  "kernelspec": {
   "display_name": "Python 3 (ipykernel)",
   "language": "python",
   "name": "python3"
  },
  "language_info": {
   "codemirror_mode": {
    "name": "ipython",
    "version": 3
   },
   "file_extension": ".py",
   "mimetype": "text/x-python",
   "name": "python",
   "nbconvert_exporter": "python",
   "pygments_lexer": "ipython3",
   "version": "3.9.7"
  }
 },
 "nbformat": 4,
 "nbformat_minor": 5
}
