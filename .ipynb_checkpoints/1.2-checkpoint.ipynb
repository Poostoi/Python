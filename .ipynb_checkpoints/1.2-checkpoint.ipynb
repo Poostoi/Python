{
 "cells": [
  {
   "cell_type": "code",
   "execution_count": 24,
   "id": "00d14768",
   "metadata": {},
   "outputs": [
    {
     "name": "stdout",
     "output_type": "stream",
     "text": [
      "[[ True  True  True]\n",
      " [False  True False]\n",
      " [ True  True  True]]\n"
     ]
    }
   ],
   "source": [
    "# Пятое задание\n",
    "import numpy as np\n",
    "import My as m\n",
    "\n",
    "print(m.A>0)"
   ]
  },
  {
   "cell_type": "code",
   "execution_count": 46,
   "id": "01fa2f73",
   "metadata": {},
   "outputs": [
    {
     "name": "stdout",
     "output_type": "stream",
     "text": [
      "94\n",
      "[1 2 3 4 6 3 7 2]\n"
     ]
    }
   ],
   "source": [
    "# Шестое задание\n",
    "a =m.A[m.A>0] \n",
    "b =m.B[m.B>0]\n",
    "sum =0\n",
    "for i in b:\n",
    "    sum +=i\n",
    "for i in a:\n",
    "    sum+=i\n",
    "\n",
    "print (sum+sum)"
   ]
  },
  {
   "cell_type": "code",
   "execution_count": 47,
   "id": "e2a8dd7c",
   "metadata": {},
   "outputs": [
    {
     "name": "stdout",
     "output_type": "stream",
     "text": [
      "[1 2 3 3 5 1 4]\n"
     ]
    }
   ],
   "source": [
    "# Седьмое задание\n",
    "print(m.A[m.A>0])\n"
   ]
  },
  {
   "cell_type": "code",
   "execution_count": 49,
   "id": "9065ca8c",
   "metadata": {},
   "outputs": [
    {
     "ename": "NameError",
     "evalue": "name 'numpy' is not defined",
     "output_type": "error",
     "traceback": [
      "\u001b[1;31m---------------------------------------------------------------------------\u001b[0m",
      "\u001b[1;31mNameError\u001b[0m                                 Traceback (most recent call last)",
      "\u001b[1;32m~\\AppData\\Local\\Temp/ipykernel_10724/1251377989.py\u001b[0m in \u001b[0;36m<module>\u001b[1;34m\u001b[0m\n\u001b[0;32m      1\u001b[0m \u001b[1;31m#Восьмое задание\u001b[0m\u001b[1;33m\u001b[0m\u001b[1;33m\u001b[0m\u001b[0m\n\u001b[1;32m----> 2\u001b[1;33m \u001b[0mm\u001b[0m\u001b[1;33m.\u001b[0m\u001b[0mA\u001b[0m\u001b[1;33m*\u001b[0m\u001b[0mnumpy\u001b[0m\u001b[1;33m.\u001b[0m\u001b[0mlinalg\u001b[0m\u001b[1;33m.\u001b[0m\u001b[0minv\u001b[0m\u001b[1;33m(\u001b[0m\u001b[0mm\u001b[0m\u001b[1;33m.\u001b[0m\u001b[0mA\u001b[0m\u001b[1;33m)\u001b[0m\u001b[1;33m\u001b[0m\u001b[1;33m\u001b[0m\u001b[0m\n\u001b[0m",
      "\u001b[1;31mNameError\u001b[0m: name 'numpy' is not defined"
     ]
    }
   ],
   "source": [
    "#Восьмое задание\n",
    "m.A*np.linalg.inv(m.A)"
   ]
  },
  {
   "cell_type": "code",
   "execution_count": null,
   "id": "7cb213b7",
   "metadata": {},
   "outputs": [],
   "source": []
  }
 ],
 "metadata": {
  "kernelspec": {
   "display_name": "Python 3 (ipykernel)",
   "language": "python",
   "name": "python3"
  },
  "language_info": {
   "codemirror_mode": {
    "name": "ipython",
    "version": 3
   },
   "file_extension": ".py",
   "mimetype": "text/x-python",
   "name": "python",
   "nbconvert_exporter": "python",
   "pygments_lexer": "ipython3",
   "version": "3.9.7"
  }
 },
 "nbformat": 4,
 "nbformat_minor": 5
}
