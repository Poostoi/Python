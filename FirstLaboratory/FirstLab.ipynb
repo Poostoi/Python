{
 "cells": [
  {
   "cell_type": "code",
   "execution_count": 92,
   "id": "de940a57",
   "metadata": {},
   "outputs": [],
   "source": [
    "#Первое задание\n",
    "import numpy as np\n",
    "import scipy.io as sio\n",
    "import scipy.optimize as so\n",
    "\n",
    "A = np.array([[1, 2,3], [-2,3, 0],[5,1,4]])\n",
    "B = np.array([[1, 2,3], [-2,4, 6],[3,7,2]])\n",
    "u = np.array([[-4], [1],[1]])\n",
    "v = np.array([[3], [2],[10]])\n",
    "\n"
   ]
  },
  {
   "cell_type": "code",
   "execution_count": 93,
   "id": "5e3485f9",
   "metadata": {},
   "outputs": [
    {
     "name": "stdout",
     "output_type": "stream",
     "text": [
      "[[0.80727099 0.17886674 0.80623575 ... 0.52042178 0.94221723 0.49584461]\n",
      " [0.82924858 0.80319921 0.50847286 ... 0.72169414 0.60590534 0.51260631]\n",
      " [0.04241549 0.54176421 0.36965193 ... 0.13012997 0.6508014  0.98286157]\n",
      " ...\n",
      " [0.95954664 0.6455346  0.60319392 ... 0.30056646 0.67612314 0.38912674]\n",
      " [0.97727183 0.51609036 0.9149833  ... 0.05559862 0.60742014 0.95481893]\n",
      " [0.71419829 0.62936083 0.61327237 ... 0.06954272 0.62852232 0.51315845]]\n"
     ]
    }
   ],
   "source": [
    "#Второе задание\n",
    "C = np.random.random((100, 100))\n",
    "print (C)"
   ]
  },
  {
   "cell_type": "code",
   "execution_count": 94,
   "id": "2b4400b0",
   "metadata": {},
   "outputs": [],
   "source": [
    "w = np.random.random((100, 1))\n"
   ]
  },
  {
   "cell_type": "code",
   "execution_count": 95,
   "id": "9e9016d6",
   "metadata": {},
   "outputs": [
    {
     "name": "stdout",
     "output_type": "stream",
     "text": [
      "[[ 2  4  6]\n",
      " [-4  7  6]\n",
      " [ 8  8  6]]\n",
      "[[ 1  4  9]\n",
      " [ 4 12  0]\n",
      " [15  7  8]]\n",
      "[[  1   8  27]\n",
      " [ -8  27   0]\n",
      " [125   1  64]]\n",
      "[[ 1  8 27]\n",
      " [-8 36  0]\n",
      " [75  7 32]]\n"
     ]
    }
   ],
   "source": [
    "#Третье задание\n",
    "print(A+B)\n",
    "print(A*B)\n",
    "print(A*A*A)\n",
    "print(A*B*A)"
   ]
  },
  {
   "cell_type": "code",
   "execution_count": 96,
   "id": "d96273e1",
   "metadata": {
    "scrolled": true
   },
   "outputs": [
    {
     "name": "stdout",
     "output_type": "stream",
     "text": [
      "[[ -36   48 -600]\n",
      " [  18   18   30]\n",
      " [  27    0  120]]\n",
      "[[-12]\n",
      " [  2]\n",
      " [ 10]]\n",
      "[[0.70915591 0.15712742 0.70824649 ... 0.45717013 0.82770089 0.43558004]\n",
      " [0.36568536 0.354198   0.2242284  ... 0.31825557 0.26719456 0.22605118]\n",
      " [0.03954997 0.50516351 0.34467885 ... 0.1213386  0.60683434 0.91646106]\n",
      " ...\n",
      " [0.63565005 0.4276333  0.39958479 ... 0.19910974 0.44789663 0.25777635]\n",
      " [0.28316836 0.14953921 0.26512001 ... 0.01610992 0.17600238 0.27666254]\n",
      " [0.55448299 0.48861763 0.47612701 ... 0.05399097 0.48796664 0.39840145]]\n",
      "[[0.70915591 0.07887737 0.7517678  ... 0.34475253 0.27301115 0.38495948]\n",
      " [0.72846237 0.354198   0.47412127 ... 0.47808506 0.17556346 0.39797278]\n",
      " [0.03726034 0.23890935 0.34467885 ... 0.08620438 0.18857227 0.76306542]\n",
      " ...\n",
      " [0.8429241  0.28467043 0.56244314 ... 0.19910974 0.19590934 0.3021068 ]\n",
      " [0.85849498 0.22758759 0.85316854 ... 0.03683121 0.17600238 0.74129393]\n",
      " [0.6273952  0.27753806 0.5718407  ... 0.04606846 0.18211682 0.39840145]]\n"
     ]
    }
   ],
   "source": [
    "print(v.T*A.T*(u+2*u))\n",
    "print(u*v)\n",
    "print(C*w)\n",
    "print(w.T*C)"
   ]
  },
  {
   "cell_type": "code",
   "execution_count": 97,
   "id": "421ab15b",
   "metadata": {},
   "outputs": [],
   "source": [
    "#Четвёртое задание\n",
    "d = np.random.random((20, 20))\n",
    "number = 1\n",
    "for index in range(1,400):  \n",
    "    number *=index\n",
    "for i in range(20):\n",
    "    for j in range(20):\n",
    "        d[i,j] = i*j"
   ]
  },
  {
   "cell_type": "code",
   "execution_count": 98,
   "id": "dc546618",
   "metadata": {},
   "outputs": [
    {
     "name": "stdout",
     "output_type": "stream",
     "text": [
      "[[-4]\n",
      " [ 1]\n",
      " [ 1]]\n"
     ]
    }
   ],
   "source": [
    "# Пятое задание\n",
    "sio.savemat ('data.mat', {'A': A, 'B':B, 'v':v,'u':u}) # Указано имя файла, имя матрицы в архиве и сама матрица\n",
    "C = sio.loadmat('data.mat')['u'] # Загружаем матрицу под именем A и помещаем в переменную B\n",
    "print (C)\n",
    "\n"
   ]
  },
  {
   "cell_type": "code",
   "execution_count": 99,
   "id": "745ccaff",
   "metadata": {},
   "outputs": [
    {
     "name": "stdout",
     "output_type": "stream",
     "text": [
      "94\n"
     ]
    }
   ],
   "source": [
    "# Шестое задание\n",
    "a =A[A>0] \n",
    "b =B[B>0]\n",
    "sum =0\n",
    "for i in b:\n",
    "    sum +=i\n",
    "for i in a:\n",
    "    sum+=i\n",
    "\n",
    "print (sum+sum)"
   ]
  },
  {
   "cell_type": "code",
   "execution_count": 100,
   "id": "c12ba1e2",
   "metadata": {},
   "outputs": [
    {
     "name": "stdout",
     "output_type": "stream",
     "text": [
      "[1 2 3 3 5 1 4]\n"
     ]
    }
   ],
   "source": [
    "# Седьмое задание\n",
    "print(A[A>0])"
   ]
  },
  {
   "cell_type": "code",
   "execution_count": 101,
   "id": "bed235e8",
   "metadata": {},
   "outputs": [
    {
     "data": {
      "text/plain": [
       "array([[ 5.00000000e-01, -2.50000000e-01, -2.63677968e-16],\n",
       "       [-3.23529412e-01,  1.02941176e-01,  1.76470588e-01],\n",
       "       [ 3.82352941e-01,  1.47058824e-02, -1.17647059e-01]])"
      ]
     },
     "execution_count": 101,
     "metadata": {},
     "output_type": "execute_result"
    }
   ],
   "source": [
    "#Восьмое задание\n",
    "np.linalg.inv(A)\n",
    "np.linalg.pinv(A, rcond=1e-15)\n",
    "np.linalg.inv(B)\n",
    "np.linalg.pinv(B, rcond=1e-15)\n"
   ]
  },
  {
   "cell_type": "code",
   "execution_count": 102,
   "id": "c89df479",
   "metadata": {},
   "outputs": [
    {
     "ename": "NameError",
     "evalue": "name 'm' is not defined",
     "output_type": "error",
     "traceback": [
      "\u001b[1;31m---------------------------------------------------------------------------\u001b[0m",
      "\u001b[1;31mNameError\u001b[0m                                 Traceback (most recent call last)",
      "\u001b[1;32m~\\AppData\\Local\\Temp/ipykernel_5800/1841183203.py\u001b[0m in \u001b[0;36m<module>\u001b[1;34m\u001b[0m\n\u001b[0;32m      1\u001b[0m \u001b[1;31m#Девятое задание\u001b[0m\u001b[1;33m\u001b[0m\u001b[1;33m\u001b[0m\u001b[0m\n\u001b[1;32m----> 2\u001b[1;33m \u001b[0mprint\u001b[0m\u001b[1;33m(\u001b[0m\u001b[0mnp\u001b[0m\u001b[1;33m.\u001b[0m\u001b[0mlinalg\u001b[0m\u001b[1;33m.\u001b[0m\u001b[0meigh\u001b[0m\u001b[1;33m(\u001b[0m\u001b[0mm\u001b[0m\u001b[1;33m.\u001b[0m\u001b[0mA\u001b[0m\u001b[1;33m)\u001b[0m\u001b[1;33m)\u001b[0m\u001b[1;33m\u001b[0m\u001b[1;33m\u001b[0m\u001b[0m\n\u001b[0m",
      "\u001b[1;31mNameError\u001b[0m: name 'm' is not defined"
     ]
    }
   ],
   "source": [
    "#Девятое задание\n",
    "print(np.linalg.eigh(m.A))"
   ]
  },
  {
   "cell_type": "code",
   "execution_count": null,
   "id": "963877c8",
   "metadata": {},
   "outputs": [],
   "source": [
    "#Десятое задание\n",
    "def f1(x):\n",
    "    return 5*(x-2)**4 -1/(x**2 +8)\n",
    "def f2(x1,x2):\n",
    "    return 4*(x1-3*x2)**2 + 7*x1**4\n",
    "print (f1(1))\n",
    "print (f2(1,1))\n",
    "x_min = so.minimize(f1, 0.0, method='BFGS') # 0.0 — начальная точка\n",
    "x1_min = so.minimize(f2,0.0,0.0,method ='BFGS')\n"
   ]
  },
  {
   "cell_type": "code",
   "execution_count": null,
   "id": "1436f1f2",
   "metadata": {},
   "outputs": [],
   "source": [
    "#Одинадцатое задание\n",
    "import matplotlib.pyplot as plt\n",
    "%matplotlib inline\n",
    "from matplotlib import rc\n",
    "rc('font', family='Verdana')\n",
    "x = np.linspace(0, 6*np.pi, 100)\n",
    "y1 = x**5 +2*x**4 -3*x -7\n",
    "y2 = x**5 -2*x**4 +3*x -7\n",
    "\n",
    "plt.plot(x, y1, ':r')\n",
    "plt.plot(x, y2, '-.b')\n",
    "\n",
    "plt.xlabel('x')\n",
    "plt.ylabel('y')\n",
    "\n",
    "plt.legend(['Первый график', 'Второй график']) # Названия в порядке отображения графиков\n",
    "\n",
    "plt.title('Синус и косинус')\n",
    "plt.show()\n"
   ]
  },
  {
   "cell_type": "code",
   "execution_count": 103,
   "id": "0ef524c0",
   "metadata": {},
   "outputs": [
    {
     "ename": "NameError",
     "evalue": "name 'plt' is not defined",
     "output_type": "error",
     "traceback": [
      "\u001b[1;31m---------------------------------------------------------------------------\u001b[0m",
      "\u001b[1;31mNameError\u001b[0m                                 Traceback (most recent call last)",
      "\u001b[1;32m~\\AppData\\Local\\Temp/ipykernel_5800/3187059628.py\u001b[0m in \u001b[0;36m<module>\u001b[1;34m\u001b[0m\n\u001b[0;32m      5\u001b[0m \u001b[0my2\u001b[0m \u001b[1;33m=\u001b[0m \u001b[0mx\u001b[0m\u001b[1;33m**\u001b[0m\u001b[1;36m5\u001b[0m \u001b[1;33m-\u001b[0m\u001b[1;36m2\u001b[0m\u001b[1;33m*\u001b[0m\u001b[0mx\u001b[0m\u001b[1;33m**\u001b[0m\u001b[1;36m4\u001b[0m \u001b[1;33m+\u001b[0m\u001b[1;36m3\u001b[0m\u001b[1;33m*\u001b[0m\u001b[0mx\u001b[0m \u001b[1;33m-\u001b[0m\u001b[1;36m7\u001b[0m\u001b[1;33m\u001b[0m\u001b[1;33m\u001b[0m\u001b[0m\n\u001b[0;32m      6\u001b[0m \u001b[1;33m\u001b[0m\u001b[0m\n\u001b[1;32m----> 7\u001b[1;33m \u001b[0mplt\u001b[0m\u001b[1;33m.\u001b[0m\u001b[0msubplot\u001b[0m\u001b[1;33m(\u001b[0m\u001b[1;36m2\u001b[0m\u001b[1;33m,\u001b[0m\u001b[1;36m1\u001b[0m\u001b[1;33m,\u001b[0m\u001b[1;36m1\u001b[0m\u001b[1;33m)\u001b[0m\u001b[1;33m\u001b[0m\u001b[1;33m\u001b[0m\u001b[0m\n\u001b[0m\u001b[0;32m      8\u001b[0m \u001b[0mplt\u001b[0m\u001b[1;33m.\u001b[0m\u001b[0mplot\u001b[0m\u001b[1;33m(\u001b[0m\u001b[0mx\u001b[0m\u001b[1;33m,\u001b[0m \u001b[0my1\u001b[0m\u001b[1;33m)\u001b[0m\u001b[1;33m\u001b[0m\u001b[1;33m\u001b[0m\u001b[0m\n\u001b[0;32m      9\u001b[0m \u001b[0mplt\u001b[0m\u001b[1;33m.\u001b[0m\u001b[0msubplot\u001b[0m\u001b[1;33m(\u001b[0m\u001b[1;36m2\u001b[0m\u001b[1;33m,\u001b[0m\u001b[1;36m2\u001b[0m\u001b[1;33m,\u001b[0m\u001b[1;36m2\u001b[0m\u001b[1;33m)\u001b[0m\u001b[1;33m\u001b[0m\u001b[1;33m\u001b[0m\u001b[0m\n",
      "\u001b[1;31mNameError\u001b[0m: name 'plt' is not defined"
     ]
    }
   ],
   "source": [
    "#Двенадцатое задание\n",
    "# rc('font', family='Verdana')\n",
    "x = np.linspace(0, 6*np.pi, 100)\n",
    "y1 = x**5 +2*x**4 -3*x -7\n",
    "y2 = x**5 -2*x**4 +3*x -7\n",
    "\n",
    "plt.subplot(2,1,1)\n",
    "plt.plot(x, y1)\n",
    "plt.subplot(2,2,2)\n",
    "plt.plot(x, y2)\n",
    "plt.xlabel('x')\n",
    "plt.ylabel('y')\n",
    "\n",
    "plt.legend(['Первый график', 'Второй график']) # Названия в порядке отображения графиков\n",
    "\n",
    "plt.title('')\n",
    "\n",
    "plt.show()"
   ]
  },
  {
   "cell_type": "code",
   "execution_count": null,
   "id": "b6a9bc2b",
   "metadata": {},
   "outputs": [],
   "source": [
    "#13 задание\n"
   ]
  }
 ],
 "metadata": {
  "kernelspec": {
   "display_name": "Python 3 (ipykernel)",
   "language": "python",
   "name": "python3"
  },
  "language_info": {
   "codemirror_mode": {
    "name": "ipython",
    "version": 3
   },
   "file_extension": ".py",
   "mimetype": "text/x-python",
   "name": "python",
   "nbconvert_exporter": "python",
   "pygments_lexer": "ipython3",
   "version": "3.9.7"
  }
 },
 "nbformat": 4,
 "nbformat_minor": 5
}
