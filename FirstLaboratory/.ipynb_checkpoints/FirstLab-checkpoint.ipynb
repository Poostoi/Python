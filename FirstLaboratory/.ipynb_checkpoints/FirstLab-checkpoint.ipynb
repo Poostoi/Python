{
 "cells": [
  {
   "cell_type": "code",
   "execution_count": 2,
   "id": "de940a57",
   "metadata": {},
   "outputs": [],
   "source": [
    "#Первое задание\n",
    "import numpy as np\n",
    "import scipy.io as sio\n",
    "import scipy.optimize as so\n",
    "\n",
    "A = np.array([[1, 2,3], [-2,3, 0],[5,1,4]])\n",
    "B = np.array([[1, 2,3], [-2,4, 6],[3,7,2]])\n",
    "u = np.array([[-4], [1],[1]])\n",
    "v = np.array([[3], [2],[10]])\n",
    "\n"
   ]
  },
  {
   "cell_type": "code",
   "execution_count": 3,
   "id": "5e3485f9",
   "metadata": {},
   "outputs": [
    {
     "name": "stdout",
     "output_type": "stream",
     "text": [
      "[[0.44659799 0.91681645 0.74744302 ... 0.77598421 0.91650188 0.12563256]\n",
      " [0.22121887 0.3704238  0.90919443 ... 0.8586573  0.50323061 0.8458765 ]\n",
      " [0.85870147 0.76312114 0.72707811 ... 0.09773157 0.60810774 0.96505888]\n",
      " ...\n",
      " [0.9204019  0.82835988 0.92660233 ... 0.36878863 0.23946953 0.3677717 ]\n",
      " [0.03331871 0.72503194 0.82687334 ... 0.41560129 0.88131001 0.41419209]\n",
      " [0.54684534 0.56974551 0.73976468 ... 0.37717649 0.789946   0.79602547]]\n"
     ]
    }
   ],
   "source": [
    "#Второе задание\n",
    "C = np.random.random((100, 100))\n",
    "print (C)"
   ]
  },
  {
   "cell_type": "code",
   "execution_count": 4,
   "id": "2b4400b0",
   "metadata": {},
   "outputs": [],
   "source": [
    "w = np.random.random((100, 1))\n"
   ]
  },
  {
   "cell_type": "code",
   "execution_count": 5,
   "id": "9e9016d6",
   "metadata": {},
   "outputs": [
    {
     "name": "stdout",
     "output_type": "stream",
     "text": [
      "[[ 2  4  6]\n",
      " [-4  7  6]\n",
      " [ 8  8  6]]\n",
      "[[ 1  4  9]\n",
      " [ 4 12  0]\n",
      " [15  7  8]]\n",
      "[[  1   8  27]\n",
      " [ -8  27   0]\n",
      " [125   1  64]]\n",
      "[[ 1  8 27]\n",
      " [-8 36  0]\n",
      " [75  7 32]]\n"
     ]
    }
   ],
   "source": [
    "#Третье задание\n",
    "print(A+B)\n",
    "print(A*B)\n",
    "print(A*A*A)\n",
    "print(A*B*A)"
   ]
  },
  {
   "cell_type": "code",
   "execution_count": 6,
   "id": "d96273e1",
   "metadata": {
    "scrolled": true
   },
   "outputs": [
    {
     "name": "stdout",
     "output_type": "stream",
     "text": [
      "[[ -36   48 -600]\n",
      " [  18   18   30]\n",
      " [  27    0  120]]\n",
      "[[-12]\n",
      " [  2]\n",
      " [ 10]]\n",
      "[[0.37720007 0.77435018 0.63129608 ... 0.65540219 0.77408449 0.10611022]\n",
      " [0.15120773 0.25319242 0.62145342 ... 0.58691024 0.34396865 0.57817429]\n",
      " [0.63918793 0.56804121 0.54121201 ... 0.07274803 0.45265455 0.71835674]\n",
      " ...\n",
      " [0.06641314 0.05977169 0.06686054 ... 0.02661056 0.01727932 0.02653718]\n",
      " [0.00561332 0.12214873 0.13930632 ... 0.07001784 0.14847746 0.06978043]\n",
      " [0.3336344  0.34760596 0.45133592 ... 0.23011818 0.48195192 0.48566105]]\n",
      "[[0.37720007 0.62666323 0.55637095 ... 0.05599244 0.15440636 0.07664936]\n",
      " [0.18684315 0.25319242 0.67677316 ... 0.06195785 0.08478107 0.51607553]\n",
      " [0.72526582 0.52160927 0.54121201 ... 0.00705199 0.10245009 0.58878959]\n",
      " ...\n",
      " [0.77737848 0.56620132 0.689731   ... 0.02661056 0.04034429 0.22438024]\n",
      " [0.02814124 0.49557451 0.61549616 ... 0.02998841 0.14847746 0.25270167]\n",
      " [0.46186975 0.38943298 0.55065546 ... 0.0272158  0.13308504 0.48566105]]\n"
     ]
    }
   ],
   "source": [
    "print(v.T*A.T*(u+2*u))\n",
    "print(u*v)\n",
    "print(C*w)\n",
    "print(w.T*C)"
   ]
  },
  {
   "cell_type": "code",
   "execution_count": 7,
   "id": "421ab15b",
   "metadata": {},
   "outputs": [],
   "source": [
    "#Четвёртое задание\n",
    "d = np.random.random((20, 20))\n",
    "number = 1\n",
    "for index in range(1,400):  \n",
    "    number *=index\n",
    "for i in range(20):\n",
    "    for j in range(20):\n",
    "        d[i,j] = i*j"
   ]
  },
  {
   "cell_type": "code",
   "execution_count": 8,
   "id": "dc546618",
   "metadata": {},
   "outputs": [
    {
     "name": "stdout",
     "output_type": "stream",
     "text": [
      "[[-4]\n",
      " [ 1]\n",
      " [ 1]]\n"
     ]
    }
   ],
   "source": [
    "# Пятое задание\n",
    "sio.savemat ('data.mat', {'A': A, 'B':B, 'v':v,'u':u}) # Указано имя файла, имя матрицы в архиве и сама матрица\n",
    "C = sio.loadmat('data.mat')['u'] # Загружаем матрицу под именем A и помещаем в переменную B\n",
    "print (C)\n",
    "\n"
   ]
  },
  {
   "cell_type": "code",
   "execution_count": 9,
   "id": "745ccaff",
   "metadata": {},
   "outputs": [
    {
     "name": "stdout",
     "output_type": "stream",
     "text": [
      "94\n"
     ]
    }
   ],
   "source": [
    "# Шестое задание\n",
    "a =A[A>0] \n",
    "b =B[B>0]\n",
    "sum =0\n",
    "for i in b:\n",
    "    sum +=i\n",
    "for i in a:\n",
    "    sum+=i\n",
    "\n",
    "print (sum+sum)"
   ]
  },
  {
   "cell_type": "code",
   "execution_count": 10,
   "id": "c12ba1e2",
   "metadata": {},
   "outputs": [
    {
     "name": "stdout",
     "output_type": "stream",
     "text": [
      "[1 2 3 3 5 1 4]\n"
     ]
    }
   ],
   "source": [
    "# Седьмое задание\n",
    "print(A[A>0])"
   ]
  },
  {
   "cell_type": "code",
   "execution_count": 11,
   "id": "bed235e8",
   "metadata": {},
   "outputs": [
    {
     "data": {
      "text/plain": [
       "array([[ 5.00000000e-01, -2.50000000e-01, -2.63677968e-16],\n",
       "       [-3.23529412e-01,  1.02941176e-01,  1.76470588e-01],\n",
       "       [ 3.82352941e-01,  1.47058824e-02, -1.17647059e-01]])"
      ]
     },
     "execution_count": 11,
     "metadata": {},
     "output_type": "execute_result"
    }
   ],
   "source": [
    "#Восьмое задание\n",
    "np.linalg.inv(A)\n",
    "np.linalg.pinv(A, rcond=1e-15)\n",
    "np.linalg.inv(B)\n",
    "np.linalg.pinv(B, rcond=1e-15)\n"
   ]
  },
  {
   "cell_type": "code",
   "execution_count": 12,
   "id": "c89df479",
   "metadata": {},
   "outputs": [
    {
     "name": "stdout",
     "output_type": "stream",
     "text": [
      "(array([-3.47075477,  3.7148881 ,  7.75586667]), array([[ 0.7660609 ,  0.20361288, -0.60966589],\n",
      "       [ 0.32268593, -0.94213952,  0.09081258],\n",
      "       [-0.55589971, -0.26629857, -0.78743926]]))\n"
     ]
    }
   ],
   "source": [
    "#Девятое задание\n",
    "print(np.linalg.eigh(A))"
   ]
  },
  {
   "cell_type": "code",
   "execution_count": 13,
   "id": "963877c8",
   "metadata": {},
   "outputs": [
    {
     "name": "stdout",
     "output_type": "stream",
     "text": [
      "4.888888888888889\n",
      "23\n"
     ]
    }
   ],
   "source": [
    "#Десятое задание\n",
    "def f1(x):\n",
    "    return 5*(x-2)**4 -1/(x**2 +8)\n",
    "def f2(x1,x2):\n",
    "    return 4*(x1-3*x2)**2 + 7*x1**4\n",
    "print (f1(1))\n",
    "print (f2(1,1))\n",
    "x_min = so.minimize(f1, 0.0, method='BFGS') # 0.0 — начальная точка\n",
    "x1_min = so.minimize(f2,0.0,0.0,method ='BFGS')\n"
   ]
  },
  {
   "cell_type": "code",
   "execution_count": 14,
   "id": "1436f1f2",
   "metadata": {},
   "outputs": [
    {
     "data": {
      "image/png": "[encoded data removed]",
      "text/plain": [
       "<Figure size 432x288 with 1 Axes>"
      ]
     },
     "metadata": {
      "needs_background": "light"
     },
     "output_type": "display_data"
    }
   ],
   "source": [
    "#Одинадцатое задание\n",
    "import matplotlib.pyplot as plt\n",
    "%matplotlib inline\n",
    "from matplotlib import rc\n",
    "rc('font', family='Verdana')\n",
    "x = np.linspace(0, 6*np.pi, 100)\n",
    "y1 = x**5 +2*x**4 -3*x -7\n",
    "y2 = x**5 -2*x**4 +3*x -7\n",
    "\n",
    "plt.plot(x, y1, ':r')\n",
    "plt.plot(x, y2, '-.b')\n",
    "\n",
    "plt.xlabel('x')\n",
    "plt.ylabel('y')\n",
    "\n",
    "plt.legend(['Первый график', 'Второй график']) # Названия в порядке отображения графиков\n",
    "\n",
    "plt.title('Синус и косинус')\n",
    "plt.show()\n"
   ]
  },
  {
   "cell_type": "code",
   "execution_count": 15,
   "id": "0ef524c0",
   "metadata": {},
   "outputs": [
    {
     "data": {
      "image/png": "[encoded data removed]",
      "text/plain": [
       "<Figure size 432x288 with 1 Axes>"
      ]
     },
     "metadata": {
      "needs_background": "light"
     },
     "output_type": "display_data"
    }
   ],
   "source": [
    "#Двенадцатое задание\n",
    "# rc('font', family='Verdana')\n",
    "x = np.linspace(0, 6*np.pi, 100)\n",
    "y1 = x**5 +2*x**4 -3*x -7\n",
    "y2 = x**5 -2*x**4 +3*x -7\n",
    "\n",
    "plt.subplot(2,1,1)\n",
    "plt.plot(x, y1)\n",
    "plt.subplot(2,2,2)\n",
    "plt.plot(x, y2)\n",
    "plt.xlabel('x')\n",
    "plt.ylabel('y')\n",
    "\n",
    "plt.legend(['Первый график', 'Второй график']) # Названия в порядке отображения графиков\n",
    "\n",
    "plt.title('')\n",
    "\n",
    "plt.show()"
   ]
  },
  {
   "cell_type": "code",
   "execution_count": 16,
   "id": "b6a9bc2b",
   "metadata": {},
   "outputs": [],
   "source": [
    "\n"
   ]
  }
 ],
 "metadata": {
  "kernelspec": {
   "display_name": "Python 3 (ipykernel)",
   "language": "python",
   "name": "python3"
  },
  "language_info": {
   "codemirror_mode": {
    "name": "ipython",
    "version": 3
   },
   "file_extension": ".py",
   "mimetype": "text/x-python",
   "name": "python",
   "nbconvert_exporter": "python",
   "pygments_lexer": "ipython3",
   "version": "3.9.7"
  }
 },
 "nbformat": 4,
 "nbformat_minor": 5
}
